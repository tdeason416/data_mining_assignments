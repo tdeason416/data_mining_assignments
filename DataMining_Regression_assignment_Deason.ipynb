{
 "cells": [
  {
   "cell_type": "code",
   "execution_count": 158,
   "metadata": {},
   "outputs": [
    {
     "data": {
      "text/html": [
       "<link href='https://fonts.googleapis.com/css?family=Passion+One' rel='stylesheet' type='text/css'><style>div.attn { font-family: 'Helvetica Neue'; font-size: 30px; line-height: 40px; color: #FFFFFF; text-align: center; margin: 30px 0; border-width: 10px 0; border-style: solid; border-color: #5AAAAA; padding: 30px 0; background-color: #DDDDFF; }hr { border: 0; background-color: #ffffff; border-top: 1px solid black; }hr.major { border-top: 10px solid #5AAA5A; }hr.minor { border: none; background-color: #ffffff; border-top: 5px dotted #CC3333; }div.bubble { width: 65%; padding: 20px; background: #DDDDDD; border-radius: 15px; margin: 0 auto; font-style: italic; color: #f00; }em { color: #AAA; }div.c1{visibility:hidden;margin:0;height:0;}div.note{color:red;}</style>"
      ],
      "text/plain": [
       "<IPython.core.display.HTML object>"
      ]
     },
     "execution_count": 158,
     "metadata": {},
     "output_type": "execute_result"
    }
   ],
   "source": [
    "#  Ebnable HTML/CSS \n",
    "from IPython.core.display import HTML\n",
    "HTML(\"<link href='https://fonts.googleapis.com/css?family=Passion+One' rel='stylesheet' type='text/css'><style>div.attn { font-family: 'Helvetica Neue'; font-size: 30px; line-height: 40px; color: #FFFFFF; text-align: center; margin: 30px 0; border-width: 10px 0; border-style: solid; border-color: #5AAAAA; padding: 30px 0; background-color: #DDDDFF; }hr { border: 0; background-color: #ffffff; border-top: 1px solid black; }hr.major { border-top: 10px solid #5AAA5A; }hr.minor { border: none; background-color: #ffffff; border-top: 5px dotted #CC3333; }div.bubble { width: 65%; padding: 20px; background: #DDDDDD; border-radius: 15px; margin: 0 auto; font-style: italic; color: #f00; }em { color: #AAA; }div.c1{visibility:hidden;margin:0;height:0;}div.note{color:red;}</style>\")"
   ]
  },
  {
   "cell_type": "markdown",
   "metadata": {},
   "source": [
    "___\n",
    "Enter Team Member Names here (double click to edit):\n",
    "\n",
    "- Name 1: Travis Deason"
   ]
  },
  {
   "cell_type": "markdown",
   "metadata": {},
   "source": [
    "# In Class Assignment One\n",
    "In the following assignment you will be asked to fill in python code and derivations for a number of different problems. Please read all instructions carefully and turn in the rendered notebook (or HTML of the rendered notebook)  before the end of class (or right after class). The initial portion of this notebook is given before class and the remainder is given during class. Please answer the initial questions before class. Once class has started you may rework your answers as a team for the initial part of the assignment. \n",
    "\n",
    "<a id=\"top\"></a>\n",
    "## Contents\n",
    "* <a href=\"#Loading\">Loading the Data</a>\n",
    "* <a href=\"#linearnumpy\">Linear Regression</a>\n",
    "* <a href=\"#sklearn\">Using Scikit Learn for Regression</a>\n",
    "* <a href=\"#classification\">Linear Classification</a>\n",
    "\n",
    "________________________________________________________________________________________________________\n",
    "\n",
    "<a id=\"Loading\"></a>\n",
    "<a href=\"#top\">Back to Top</a>\n",
    "## Loading the Data\n",
    "Please run the following code to read in the \"diabetes\" dataset from sklearn's data loading module. \n",
    "\n",
    "This will load the data into the variable `ds`. `ds` is a dictionary object with fields like `ds.data`, which is a matrix of the continuous features in the dataset. The object is not a pandas dataframe. It is a numpy matrix. Each row is a set of observed instances, each column is a different feature. It also has a field called `ds.target` that is a continuous value we are trying to predict. Each entry in `ds.target` is a label for each row of the `ds.data` matrix. "
   ]
  },
  {
   "cell_type": "code",
   "execution_count": 254,
   "metadata": {},
   "outputs": [
    {
     "name": "stdout",
     "output_type": "stream",
     "text": [
      "features shape: (442, 10) format is: ('rows', 'columns')\n",
      "range of target: 25.0 346.0\n"
     ]
    }
   ],
   "source": [
    "from sklearn.datasets import load_diabetes\n",
    "import numpy as np\n",
    "import pandas as pd\n",
    "import matplotlib.pyplot as plt\n",
    "import seaborn as sns\n",
    "plt.style.use('ggplot')\n",
    "%matplotlib inline\n",
    "from __future__ import print_function\n",
    "\n",
    "\n",
    "ds = load_diabetes()\n",
    "\n",
    "# this holds the continuous feature data\n",
    "# because ds.data is a matrix, there are some special properties we can access (like 'shape')\n",
    "\n",
    "#>>>>>>uncomment these<<<\n",
    "print('features shape:', ds.data.shape, 'format is:', ('rows','columns')) # there are 442 instances and 10 features per instance\n",
    "print('range of target:', np.min(ds.target),np.max(ds.target))"
   ]
  },
  {
   "cell_type": "code",
   "execution_count": 162,
   "metadata": {},
   "outputs": [
    {
     "name": "stdout",
     "output_type": "stream",
     "text": [
      "array([[ 0.03807591,  0.05068012,  0.06169621,  0.02187235, -0.0442235 ,\n",
      "        -0.03482076, -0.04340085, -0.00259226,  0.01990842, -0.01764613],\n",
      "       [-0.00188202, -0.04464164, -0.05147406, -0.02632783, -0.00844872,\n",
      "        -0.01916334,  0.07441156, -0.03949338, -0.06832974, -0.09220405],\n",
      "       [ 0.08529891,  0.05068012,  0.04445121, -0.00567061, -0.04559945,\n",
      "        -0.03419447, -0.03235593, -0.00259226,  0.00286377, -0.02593034],\n",
      "       [-0.08906294, -0.04464164, -0.01159501, -0.03665645,  0.01219057,\n",
      "         0.02499059, -0.03603757,  0.03430886,  0.02269202, -0.00936191],\n",
      "       [ 0.00538306, -0.04464164, -0.03638469,  0.02187235,  0.00393485,\n",
      "         0.01559614,  0.00814208, -0.00259226, -0.03199144, -0.04664087],\n",
      "       [-0.09269548, -0.04464164, -0.04069594, -0.01944209, -0.06899065,\n",
      "        -0.07928784,  0.04127682, -0.0763945 , -0.04118039, -0.09634616],\n",
      "       [-0.04547248,  0.05068012, -0.04716281, -0.01599922, -0.04009564,\n",
      "        -0.02480001,  0.00077881, -0.03949338, -0.06291295, -0.03835666],\n",
      "       [ 0.06350368,  0.05068012, -0.00189471,  0.06662967,  0.09061988,\n",
      "         0.10891438,  0.02286863,  0.01770335, -0.03581673,  0.00306441],\n",
      "       [ 0.04170844,  0.05068012,  0.06169621, -0.04009932, -0.01395254,\n",
      "         0.00620169, -0.02867429, -0.00259226, -0.01495648,  0.01134862],\n",
      "       [-0.07090025, -0.04464164,  0.03906215, -0.03321358, -0.01257658,\n",
      "        -0.03450761, -0.02499266, -0.00259226,  0.06773633, -0.01350402]])\n",
      "array([ 151.,   75.,  141.,  206.,  135.,   97.,  138.,   63.,  110.,\n",
      "        310.,  101.,   69.,  179.,  185.,  118.,  171.,  166.,  144.,\n",
      "         97.,  168.,   68.,   49.,   68.,  245.,  184.,  202.,  137.,\n",
      "         85.,  131.,  283.,  129.,   59.,  341.,   87.,   65.,  102.,\n",
      "        265.,  276.,  252.,   90.,  100.,   55.,   61.,   92.,  259.,\n",
      "         53.,  190.,  142.,   75.,  142.,  155.,  225.,   59.,  104.,\n",
      "        182.,  128.,   52.,   37.,  170.,  170.,   61.,  144.,   52.,\n",
      "        128.,   71.,  163.,  150.,   97.,  160.,  178.,   48.,  270.,\n",
      "        202.,  111.,   85.,   42.,  170.,  200.,  252.,  113.,  143.,\n",
      "         51.,   52.,  210.,   65.,  141.,   55.,  134.,   42.,  111.,\n",
      "         98.,  164.,   48.,   96.,   90.,  162.,  150.,  279.,   92.,   83.])\n"
     ]
    }
   ],
   "source": [
    "from pprint import pprint\n",
    "\n",
    "# we can set the fields inside of ds and set them to new variables in python\n",
    "\n",
    "#>> uncomment \n",
    "pprint(ds.data[:10,:]) # prints out elements of the matrix\n",
    "pprint(ds.target[:100]) # prints the vector (all 442 items)"
   ]
  },
  {
   "cell_type": "markdown",
   "metadata": {},
   "source": [
    "________________________________________________________________________________________________________\n",
    "<a id=\"linearnumpy\"></a>\n",
    "<a href=\"#top\">Back to Top</a>\n",
    "## Using Linear Regression \n",
    "In the videos, we derived the formula for calculating the optimal values of the regression weights (you must be connected to the internet for this equation to show up properly):\n",
    "\n",
    "$$ w = (X^TX)^{-1}X^Ty $$\n",
    "\n",
    "where $X$ is the matrix of values with a bias column of ones appended onto it. For the diabetes dataset one could construct this $X$ matrix by stacking a column of ones onto the `ds.data` matrix. \n",
    "\n",
    "$$ X=\\begin{bmatrix}\n",
    "         & \\vdots &        &  1 \\\\\n",
    "        \\dotsb & \\text{ds.data} & \\dotsb &  \\vdots\\\\\n",
    "         & \\vdots &         &  1\\\\\n",
    "     \\end{bmatrix}\n",
    "$$\n",
    "\n",
    "**Question 1:** If X has $n$ observations and $p$ features (columns), how many elements will the vector $w$ contain?"
   ]
  },
  {
   "cell_type": "code",
   "execution_count": 164,
   "metadata": {},
   "outputs": [],
   "source": [
    "# Enter your answer here (or write code to calculate it)\n",
    "\n",
    "# X = (n, p)\n",
    "# w = (X.T*X)**(-1)* X.T * y"
   ]
  },
  {
   "cell_type": "markdown",
   "metadata": {},
   "source": [
    "* **w will contain p elements**"
   ]
  },
  {
   "cell_type": "markdown",
   "metadata": {},
   "source": [
    "________________________________________________________________________________________________________\n",
    "\n",
    "**Exercise 1:** In the following empty cell, use this equation and numpy matrix operations to find the values of the vector $w$. You will need to be sure $X$ and $y$ are created like the instructor talked about in the video. Don't forget to include any modifications to $X$ to account for the bias term in $w$. You might be interested in the following functions:\n",
    "\n",
    "- `np.hstack((mat1,mat2))` stack two matrices horizontally, to create a new matrix\n",
    "- `np.ones((rows,cols))` create a matrix full of ones\n",
    "- `my_mat.T` takes transpose of numpy matrix named `my_mat`\n",
    "- `np.dot(mat1,mat2)` is matrix multiplication for two matrices\n",
    "- `np.linalg.inv(mat)` gets the inverse of the variable `mat`"
   ]
  },
  {
   "cell_type": "code",
   "execution_count": 168,
   "metadata": {
    "collapsed": true
   },
   "outputs": [],
   "source": [
    "# Write you code here, print the values of the regression weights \n",
    "# using the 'print()' function in python\n",
    "\n",
    "def get_w_values(X, y):\n",
    "    return np.dot(np.dot(np.linalg.inv(np.dot(X.T, X)),X.T),y)\n",
    "\n",
    "X= ds.data\n",
    "y= ds.target\n",
    "w_linal = get_w_values(X, y)"
   ]
  },
  {
   "cell_type": "code",
   "execution_count": 170,
   "metadata": {},
   "outputs": [
    {
     "name": "stdout",
     "output_type": "stream",
     "text": [
      "[ -10.01219782 -239.81908937  519.83978679  324.39042769 -792.18416163\n",
      "  476.74583782  101.04457032  177.06417623  751.27932109   67.62538639]\n"
     ]
    }
   ],
   "source": [
    "print(w_linal)"
   ]
  },
  {
   "cell_type": "markdown",
   "metadata": {},
   "source": [
    "\n",
    "___\n",
    "<a id=\"sklearn\"></a>\n",
    "<a href=\"#top\">Back to Top</a>\n",
    "# Start of Live Session Coding\n",
    "\n",
    "**Exercise 2:** Scikit-learn also has a linear regression fitting implementation. Look at the scikit learn API and learn to use the linear regression method. The API is here: \n",
    "\n",
    "- API Reference: http://scikit-learn.org/stable/modules/generated/sklearn.linear_model.LinearRegression.html\n",
    "\n",
    "Use the sklearn `LinearRegression` module to check your results from the previous question. \n",
    "\n",
    "**Question 2**: Did you get the same parameters? "
   ]
  },
  {
   "cell_type": "code",
   "execution_count": 217,
   "metadata": {},
   "outputs": [],
   "source": [
    "# write your code here, print the values of model by accessing \n",
    "#    its properties that you looked up from the API\n",
    "from sklearn.linear_model import LinearRegression\n",
    "model = LinearRegression(True, n_jobs=-1)\n",
    "fitted = model.fit(X, y)\n",
    "w_sklearn = model.coef_\n",
    "\n",
    "ss_diff = sum([(x-y)**2 for x,y in zip(w_sklearn, w_linal)])"
   ]
  },
  {
   "cell_type": "code",
   "execution_count": 228,
   "metadata": {},
   "outputs": [
    {
     "name": "stdout",
     "output_type": "stream",
     "text": [
      "model coefficients are:\n",
      " [ -10.01219782 -239.81908937  519.83978679  324.39042769 -792.18416163\n",
      "  476.74583782  101.04457032  177.06417623  751.27932109   67.62538639]\n",
      "model intercept is:\n",
      " -10.0121978175\n",
      "Answer to question is:\n",
      " Yes they are virtually the same params\n",
      " \tNet diffirence between params is 2.822E-19\n"
     ]
    }
   ],
   "source": [
    "print('model coefficients are:\\n', coefs)\n",
    "print('model intercept is:\\n', coefs[0])\n",
    "print(\"Answer to question is:\\n\",\n",
    "      \"Yes they are virtually the same params\\n\",\n",
    "      \"\\tNet diffirence between params is {:.3E}\"\\\n",
    "      .format(ss_diff))"
   ]
  },
  {
   "cell_type": "markdown",
   "metadata": {},
   "source": [
    "________________________________________________________________________________________________________\n",
    "\n",
    "Recall that to predict the output from our model, $\\hat{y}$, from $w$ and $X$ we need to use the following formula:\n",
    "\n",
    "- $\\hat{y}=w^TX^T$\n",
    "\n",
    "Where $X$ is a matrix with example instances in *each row* of the matrix. \n",
    "\n",
    "**Exercise 3:** \n",
    "-  Use matrix multiplication to predict output using numpy, $\\hat{y}_{numpy}$ and also using the sklearn regression object, $\\hat{y}_{sklearn}$.\n"
   ]
  },
  {
   "cell_type": "code",
   "execution_count": 140,
   "metadata": {
    "collapsed": true
   },
   "outputs": [],
   "source": [
    "import pandas as pd\n",
    "%matplotlib inline"
   ]
  },
  {
   "cell_type": "code",
   "execution_count": 251,
   "metadata": {
    "collapsed": true
   },
   "outputs": [],
   "source": []
  },
  {
   "cell_type": "code",
   "execution_count": 367,
   "metadata": {},
   "outputs": [
    {
     "name": "stdout",
     "output_type": "stream",
     "text": [
      "Sum Squared Error between sklearn and linear algebra method:\n",
      "\t 1.17854732253e-20\n",
      "Max diff between sklearn and linear algebra method:\n",
      "\t 1.7564616428e-11\n"
     ]
    },
    {
     "data": {
      "image/png": "[encoded data removed]",
      "text/plain": [
       "<matplotlib.figure.Figure at 0x121d9c0b8>"
      ]
     },
     "metadata": {},
     "output_type": "display_data"
    }
   ],
   "source": [
    "# Use this block to answer the questions\n",
    "\n",
    "y_predict = np.dot(X,w_linal.T) + \\\n",
    "    y.mean() - np.dot(w_linal, np.apply_along_axis(np.mean, 0, X))\n",
    "\n",
    "y_sklearn = model.predict(X)\n",
    "\n",
    "## these values are kind of useless because there are 442 of them\n",
    "## this makes them hard to observe\n",
    "# print(y_numpy)\n",
    "# print(y_sklearn)\n",
    "\n",
    "# I believe this is a better measurement (KDE plot)\n",
    "sns.kdeplot((y_predict - y_sklearn))\n",
    "print(\"Sum Squared Error between sklearn and linear algebra method:\\n\\t\"\n",
    "      ,sum([(x-y)**2 for x,y in zip(y_predict, y_sklearn)]))\n",
    "print(\"Max diff between sklearn and linear algebra method:\\n\\t\"\n",
    "       ,(np.abs(y_predict - y_sklearn)).max())"
   ]
  },
  {
   "cell_type": "markdown",
   "metadata": {},
   "source": [
    "________________________________________________________________________________________________________\n",
    "<a id=\"classification\"></a>\n",
    "<a href=\"#top\">Back to Top</a>\n",
    "## Using Linear Classification"
   ]
  },
  {
   "cell_type": "markdown",
   "metadata": {},
   "source": [
    "________________________________________________________________________________________________________\n",
    "\n",
    "**Exercise 4:** In this exercise you need to make sure the response variable is binary (0,1).\n",
    "Now use linear regression to come up with a set of weights, `w`, that predict the class value. This is exactly like you did before for the *diabetes* dataset. However, instead of regressing to continuous values, you are just regressing to the integer value of the class (0 or 1), like we talked about in the video. Remember to account for the bias term when constructing the feature matrix, `X`. Print the weights of the linear classifier."
   ]
  },
  {
   "cell_type": "code",
   "execution_count": 67,
   "metadata": {
    "collapsed": true
   },
   "outputs": [],
   "source": [
    "from sklearn.linear_model import LogisticRegression"
   ]
  },
  {
   "cell_type": "code",
   "execution_count": 272,
   "metadata": {},
   "outputs": [
    {
     "name": "stdout",
     "output_type": "stream",
     "text": [
      "[False False False False False False  True False False False  True False\n",
      "  True False  True  True False  True  True False  True False  True]\n"
     ]
    }
   ],
   "source": [
    "y_normed = y / y.max()\n",
    "y_binary = y_normed > y_normed.mean()\n",
    "print(y_binary[::20])"
   ]
  },
  {
   "cell_type": "code",
   "execution_count": 268,
   "metadata": {},
   "outputs": [
    {
     "name": "stdout",
     "output_type": "stream",
     "text": [
      "coefficents (SkLearn):\n",
      "[[ 0.71130401 -0.38798293  2.91661179  2.51574778  0.72613598  0.38726876\n",
      "  -1.78049531  1.74388505  3.00411508  1.70792293]]\n",
      "coefficents (Linear Algebra):\n",
      "[-0.12012891 -1.48152806  2.12440139  2.2044744  -5.62472911  4.00337706\n",
      "  1.0335526   0.75966083  4.84794675  0.37976139]\n"
     ]
    }
   ],
   "source": [
    "# write your code here and print the values of the weights \n",
    "\n",
    "\n",
    "w_linear_log = get_w_values(X, y_binary)\n",
    "\n",
    "\n",
    "model_reg = LogisticRegression()\n",
    "fitted = model_reg.fit(X, y_binary)\n",
    "\n",
    "w_log_sklearn = model_reg.coef_\n",
    "print(\"coefficents (SkLearn):\\n{}\".format(w_log_sklearn))\n",
    "print(\"coefficents (Linear Algebra):\\n{}\".format(w_linear_log))"
   ]
  },
  {
   "cell_type": "markdown",
   "metadata": {},
   "source": [
    "________________________________________________________________________________________________________\n",
    "\n",
    "**Exercise 5:** Finally, use a hard decision function on the output of the linear regression to make this a binary classifier. This is just like we talked about in the video, where the output of the linear regression passes through a function: \n",
    "\n",
    "- $\\hat{y}=g(w^TX^T)$ where\n",
    " - $g(w^TX^T)$ for $w^TX^T < \\alpha$ maps the predicted class to `0` \n",
    " - $g(w^TX^T)$ for $w^TX^T \\geq \\alpha$ maps the predicted class to `1`. \n",
    "\n",
    "Here, alpha is a threshold for deciding the class. \n",
    "\n",
    "**Question 3**: What value for $\\alpha$ makes the most sense? What is the accuracy of the classifier given the $\\alpha$ you chose? \n",
    "\n",
    "Note: You can calculate the accuracy with the following code: `accuracy = float(sum(yhat==y)) / len(y)` assuming you choose variable names `y` and `yhat` for the target and prediction, respectively."
   ]
  },
  {
   "cell_type": "code",
   "execution_count": 334,
   "metadata": {
    "collapsed": true
   },
   "outputs": [],
   "source": [
    "sklearn_preds = model_reg.predict(X)\n",
    "linal_log_coefs = (np.dot(X,w_linear_log.T) + \\\n",
    "    y_binary.mean() - np.dot(w_linear_log, np.apply_along_axis(np.mean, 0, X)))\n",
    "linal_log_preds = linal_log_coefs > .45"
   ]
  },
  {
   "cell_type": "code",
   "execution_count": 337,
   "metadata": {
    "collapsed": true
   },
   "outputs": [],
   "source": [
    "from sklearn.metrics import roc_curve, accuracy_score"
   ]
  },
  {
   "cell_type": "code",
   "execution_count": 363,
   "metadata": {},
   "outputs": [],
   "source": [
    "acc = {}\n",
    "for i in np.linspace(0,1, 10000):\n",
    "    linal_log_preds = linal_log_coefs > i\n",
    "    acc[i] = float((linal_log_preds == y_binary).sum()) / y.size\n",
    "lineal_acc = pd.Series(acc)"
   ]
  },
  {
   "cell_type": "code",
   "execution_count": 364,
   "metadata": {},
   "outputs": [
    {
     "name": "stdout",
     "output_type": "stream",
     "text": [
      "The Ideal hardthreshold value is at :\n",
      "\t 0.414741474147\n"
     ]
    },
    {
     "data": {
      "image/png": "[encoded data removed]",
      "text/plain": [
       "<matplotlib.figure.Figure at 0x121f38a90>"
      ]
     },
     "metadata": {},
     "output_type": "display_data"
    }
   ],
   "source": [
    "lineal_acc.plot(figsize=(12,6), title=\"Threshold Value vs Accuracy\")\n",
    "print(\"The Ideal hardthreshold value is at :\\n\\t\", lineal_acc.idxmax())\n",
    "linal_log_preds = linal_log_coefs > lineal_acc.idxmax()"
   ]
  },
  {
   "cell_type": "code",
   "execution_count": 365,
   "metadata": {},
   "outputs": [],
   "source": [
    "# use this box to predict the classification output\n",
    "accuracy_sklearn = float((sklearn_preds == y_binary).sum()) / y.size\n",
    "accuracy_linlog = float((linal_log_preds == y_binary).sum()) / y.size"
   ]
  },
  {
   "cell_type": "code",
   "execution_count": 366,
   "metadata": {},
   "outputs": [
    {
     "name": "stdout",
     "output_type": "stream",
     "text": [
      "Percentage_accuracy (SkLearn):\n",
      "\t 0.751131221719457\n",
      "Percentage_accuracy (Linear Algebra):\n",
      "\t 0.7579185520361991\n"
     ]
    }
   ],
   "source": [
    "## this assumes the classification threshold is the mean\n",
    "print('Percentage_accuracy (SkLearn):\\n\\t', accuracy_sklearn)\n",
    "print('Percentage_accuracy (Linear Algebra):\\n\\t', accuracy_linlog)"
   ]
  },
  {
   "cell_type": "markdown",
   "metadata": {},
   "source": [
    "________________________________________________________________________________________________________\n",
    "\n",
    "That's all! Please **save (make sure you saved!!!) and upload your rendered notebook** and please include **team member names** in the notebook submission."
   ]
  }
 ],
 "metadata": {
  "kernelspec": {
   "display_name": "Python 3",
   "language": "python",
   "name": "python3"
  },
  "language_info": {
   "codemirror_mode": {
    "name": "ipython",
    "version": 3
   },
   "file_extension": ".py",
   "mimetype": "text/x-python",
   "name": "python",
   "nbconvert_exporter": "python",
   "pygments_lexer": "ipython3",
   "version": "3.6.1"
  }
 },
 "nbformat": 4,
 "nbformat_minor": 1
}
